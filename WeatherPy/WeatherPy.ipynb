{
 "cells": [
  {
   "cell_type": "markdown",
   "metadata": {},
   "source": [
    "# WeatherPy\n",
    "----\n",
    "\n",
    "## Observations\n",
    "* As I expected, temperature correlates well with the latitude. As latitude moves away from equator in both ways north and south, temperature decreases.\n",
    "* Almost no correlation between Wind Speed and Latitude in the Northern Hemisphere.\n",
    "* Very little correlation between Humidity and Latitude in both Hemispheres, maybe because most humidity will be close to the equator."
   ]
  },
  {
   "cell_type": "code",
   "execution_count": 2,
   "metadata": {
    "scrolled": true
   },
   "outputs": [],
   "source": [
    "# Dependencies and Setup\n",
    "import matplotlib.pyplot as plt\n",
    "import pandas as pd\n",
    "import numpy as np\n",
    "import requests\n",
    "import time\n",
    "from scipy.stats import linregress\n",
    "\n",
    "# Import API key\n",
    "from api_keys import weather_api_key\n",
    "\n",
    "# Incorporated citipy to determine city based on latitude and longitude\n",
    "from citipy import citipy\n",
    "\n",
    "# Output File (CSV)\n",
    "output_data_file = \"output_data/cities.csv\"\n",
    "\n",
    "# Range of latitudes and longitudes\n",
    "lat_range = (-90, 90)\n",
    "lng_range = (-180, 180)"
   ]
  },
  {
   "cell_type": "markdown",
   "metadata": {},
   "source": [
    "## Generate Cities List"
   ]
  },
  {
   "cell_type": "code",
   "execution_count": 3,
   "metadata": {},
   "outputs": [
    {
     "data": {
      "text/plain": [
       "617"
      ]
     },
     "execution_count": 3,
     "metadata": {},
     "output_type": "execute_result"
    }
   ],
   "source": [
    "# List for holding lat_lngs and cities\n",
    "lat_lngs = []\n",
    "cities = []\n",
    "\n",
    "# Create a set of random lat and lng combinations\n",
    "lats = np.random.uniform(lat_range[0], lat_range[1], size=1500)\n",
    "lngs = np.random.uniform(lng_range[0], lng_range[1], size=1500)\n",
    "lat_lngs = zip(lats, lngs)\n",
    "\n",
    "# Identify nearest city for each lat, lng combination\n",
    "for lat_lng in lat_lngs:\n",
    "    city = citipy.nearest_city(lat_lng[0], lat_lng[1]).city_name\n",
    "    \n",
    "    # If the city is unique, then add it to a our cities list\n",
    "    if city not in cities:\n",
    "        cities.append(city)\n",
    "\n",
    "# Print the city count to confirm sufficient count\n",
    "len(cities)"
   ]
  },
  {
   "cell_type": "markdown",
   "metadata": {},
   "source": [
    "### Perform API Calls\n",
    "* Perform a weather check on each city using a series of successive API calls.\n",
    "* Include a print log of each city as it'sbeing processed (with the city number and city name).\n"
   ]
  },
  {
   "cell_type": "code",
   "execution_count": 5,
   "metadata": {},
   "outputs": [],
   "source": [
    "# Save config information\n",
    "url = \"http://api.openweathermap.org/data/2.5/weather?\"\n",
    "units = \"imperial\"\n",
    "\n",
    "# Build query URL\n",
    "query_url = f\"{url}appid={weather_api_key}&units={units}&q=\""
   ]
  },
  {
   "cell_type": "code",
   "execution_count": 6,
   "metadata": {},
   "outputs": [],
   "source": [
    "# set lists for the dataframe\n",
    "city_name = []\n",
    "cloudiness = []\n",
    "dates = []\n",
    "humidity = []\n",
    "lat = []\n",
    "lng = []\n",
    "max_temp = []\n",
    "wind_speed = []\n",
    "countries = []"
   ]
  },
  {
   "cell_type": "code",
   "execution_count": 7,
   "metadata": {},
   "outputs": [
    {
     "name": "stdout",
     "output_type": "stream",
     "text": [
      "\n",
      "-----------------------------\n",
      "Beginning Data Retrieval\n",
      "-----------------------------\n",
      "Processing Record 1 of Set 1 | ancud\n",
      "Processing Record 2 of Set 1 | port lincoln\n",
      "City not found. Skipping...\n",
      "Processing Record 3 of Set 1 | luderitz\n",
      "City not found. Skipping...\n",
      "Processing Record 4 of Set 1 | kupang\n",
      "Processing Record 5 of Set 1 | albany\n",
      "City not found. Skipping...\n",
      "Processing Record 6 of Set 1 | inhambane\n",
      "City not found. Skipping...\n",
      "Processing Record 7 of Set 1 | mayo\n",
      "Processing Record 8 of Set 1 | barrow\n",
      "Processing Record 9 of Set 1 | ushuaia\n",
      "Processing Record 10 of Set 1 | busselton\n",
      "Processing Record 11 of Set 1 | jamestown\n",
      "Processing Record 12 of Set 1 | hobart\n",
      "Processing Record 13 of Set 1 | dali\n",
      "Processing Record 14 of Set 1 | mataura\n",
      "Processing Record 15 of Set 1 | khairpur\n",
      "Processing Record 16 of Set 1 | boende\n",
      "Processing Record 17 of Set 1 | rikitea\n",
      "Processing Record 18 of Set 1 | nikolskoye\n",
      "Processing Record 19 of Set 1 | carnarvon\n",
      "Processing Record 20 of Set 1 | shimoda\n",
      "City not found. Skipping...\n",
      "Processing Record 21 of Set 1 | east london\n",
      "Processing Record 22 of Set 1 | provideniya\n",
      "Processing Record 23 of Set 1 | lander\n",
      "Processing Record 24 of Set 1 | carutapera\n",
      "Processing Record 25 of Set 1 | nevsehir\n",
      "City not found. Skipping...\n",
      "Processing Record 26 of Set 1 | vaini\n",
      "Processing Record 27 of Set 1 | labuhan\n",
      "Processing Record 28 of Set 1 | waipawa\n",
      "City not found. Skipping...\n",
      "Processing Record 29 of Set 1 | qaanaaq\n",
      "Processing Record 30 of Set 1 | nago\n",
      "Processing Record 31 of Set 1 | finschhafen\n",
      "City not found. Skipping...\n",
      "Processing Record 32 of Set 1 | butaritari\n",
      "Processing Record 33 of Set 1 | nelson bay\n",
      "Processing Record 34 of Set 1 | santa cruz\n",
      "City not found. Skipping...\n",
      "Processing Record 35 of Set 1 | castelo do piaui\n",
      "Processing Record 36 of Set 1 | yellowknife\n",
      "Processing Record 37 of Set 1 | mount isa\n",
      "Processing Record 38 of Set 1 | norman wells\n",
      "Processing Record 39 of Set 1 | punta arenas\n",
      "Processing Record 40 of Set 1 | victoria\n",
      "Processing Record 41 of Set 1 | brae\n",
      "Processing Record 42 of Set 1 | komsomolskiy\n",
      "Processing Record 43 of Set 1 | kahului\n",
      "Processing Record 44 of Set 1 | ulladulla\n",
      "Processing Record 45 of Set 1 | kapaa\n",
      "Processing Record 46 of Set 1 | hermanus\n",
      "Processing Record 47 of Set 1 | yarim\n",
      "Processing Record 48 of Set 1 | scarborough\n",
      "Processing Record 49 of Set 1 | ouadda\n",
      "Processing Record 50 of Set 1 | japura\n",
      "Processing Record 1 of Set 2 | hamilton\n",
      "Processing Record 2 of Set 2 | lagoa\n",
      "Processing Record 3 of Set 2 | vrangel\n",
      "Processing Record 4 of Set 2 | nikolsk\n",
      "Processing Record 5 of Set 2 | hasaki\n",
      "City not found. Skipping...\n",
      "Processing Record 6 of Set 2 | ahuimanu\n",
      "Processing Record 7 of Set 2 | srednekolymsk\n",
      "Processing Record 8 of Set 2 | mendi\n",
      "City not found. Skipping...\n",
      "Processing Record 9 of Set 2 | sangar\n",
      "Processing Record 10 of Set 2 | patos\n",
      "Processing Record 11 of Set 2 | kodiak\n",
      "Processing Record 12 of Set 2 | baykit\n",
      "Processing Record 13 of Set 2 | saldanha\n",
      "City not found. Skipping...\n",
      "Processing Record 14 of Set 2 | turukhansk\n",
      "Processing Record 15 of Set 2 | deputatskiy\n",
      "Processing Record 16 of Set 2 | komsomolets\n",
      "City not found. Skipping...\n",
      "Processing Record 17 of Set 2 | pisco\n",
      "Processing Record 18 of Set 2 | maragogi\n",
      "Processing Record 19 of Set 2 | cidreira\n",
      "Processing Record 20 of Set 2 | oranjemund\n",
      "Processing Record 21 of Set 2 | bambous virieux\n",
      "Processing Record 22 of Set 2 | saint-philippe\n",
      "Processing Record 23 of Set 2 | hilo\n",
      "Processing Record 24 of Set 2 | cervo\n",
      "Processing Record 25 of Set 2 | juneau\n",
      "Processing Record 26 of Set 2 | aklavik\n",
      "Processing Record 27 of Set 2 | severo-kurilsk\n",
      "Processing Record 28 of Set 2 | bitung\n",
      "Processing Record 29 of Set 2 | togur\n",
      "City not found. Skipping...\n",
      "Processing Record 30 of Set 2 | sao joao nepomuceno\n",
      "Processing Record 31 of Set 2 | juba\n",
      "Processing Record 32 of Set 2 | fukue\n",
      "Processing Record 33 of Set 2 | port blair\n",
      "Processing Record 34 of Set 2 | mahebourg\n",
      "City not found. Skipping...\n",
      "Processing Record 35 of Set 2 | sawai madhopur\n",
      "City not found. Skipping...\n",
      "Processing Record 36 of Set 2 | teahupoo\n",
      "City not found. Skipping...\n",
      "Processing Record 37 of Set 2 | khatanga\n",
      "Processing Record 38 of Set 2 | marystown\n",
      "City not found. Skipping...\n",
      "Processing Record 39 of Set 2 | ales\n",
      "Processing Record 40 of Set 2 | bluff\n",
      "Processing Record 41 of Set 2 | clocolan\n",
      "Processing Record 42 of Set 2 | avarua\n",
      "Processing Record 43 of Set 2 | glogow\n",
      "Processing Record 44 of Set 2 | payakumbuh\n",
      "Processing Record 45 of Set 2 | sioux lookout\n",
      "Processing Record 46 of Set 2 | mount gambier\n",
      "Processing Record 47 of Set 2 | sidi bin nur\n",
      "Processing Record 48 of Set 2 | maceio\n",
      "Processing Record 49 of Set 2 | cape town\n",
      "Processing Record 50 of Set 2 | araceli\n",
      "City not found. Skipping...\n",
      "Processing Record 1 of Set 3 | tursunzoda\n",
      "Processing Record 2 of Set 3 | pitimbu\n",
      "Processing Record 3 of Set 3 | marchena\n",
      "City not found. Skipping...\n",
      "Processing Record 4 of Set 3 | constitucion\n",
      "Processing Record 5 of Set 3 | atuona\n",
      "Processing Record 6 of Set 3 | skelleftea\n",
      "Processing Record 7 of Set 3 | toamasina\n",
      "Processing Record 8 of Set 3 | yamada\n",
      "Processing Record 9 of Set 3 | tasiilaq\n",
      "Processing Record 10 of Set 3 | idrija\n",
      "Processing Record 11 of Set 3 | grand river south east\n",
      "Processing Record 12 of Set 3 | sao gabriel da cachoeira\n",
      "Processing Record 13 of Set 3 | neiafu\n",
      "Processing Record 14 of Set 3 | alihe\n",
      "City not found. Skipping...\n",
      "Processing Record 15 of Set 3 | ponta do sol\n",
      "Processing Record 16 of Set 3 | vikhorevka\n",
      "Processing Record 17 of Set 3 | kaitangata\n",
      "Processing Record 18 of Set 3 | brcko\n",
      "Processing Record 19 of Set 3 | souillac\n",
      "Processing Record 20 of Set 3 | berlevag\n",
      "Processing Record 21 of Set 3 | bengkulu\n",
      "Processing Record 22 of Set 3 | yulara\n",
      "City not found. Skipping...\n",
      "Processing Record 23 of Set 3 | airai\n",
      "Processing Record 24 of Set 3 | kamaishi\n",
      "Processing Record 25 of Set 3 | cayenne\n",
      "Processing Record 26 of Set 3 | arraial do cabo\n",
      "Processing Record 27 of Set 3 | lompoc\n",
      "Processing Record 28 of Set 3 | tiznit\n",
      "City not found. Skipping...\n",
      "Processing Record 29 of Set 3 | pangai\n",
      "Processing Record 30 of Set 3 | port hedland\n",
      "Processing Record 31 of Set 3 | fortuna\n",
      "Processing Record 32 of Set 3 | uyemskiy\n",
      "Processing Record 33 of Set 3 | flinders\n",
      "City not found. Skipping...\n",
      "Processing Record 34 of Set 3 | garmsar\n",
      "Processing Record 35 of Set 3 | roald\n",
      "Processing Record 36 of Set 3 | washougal\n",
      "Processing Record 37 of Set 3 | upernavik\n",
      "Processing Record 38 of Set 3 | vossevangen\n",
      "Processing Record 39 of Set 3 | snyder\n",
      "City not found. Skipping...\n",
      "Processing Record 40 of Set 3 | carberry\n",
      "Processing Record 41 of Set 3 | oktyabrskoye\n",
      "Processing Record 42 of Set 3 | richards bay\n",
      "Processing Record 43 of Set 3 | hofn\n",
      "Processing Record 44 of Set 3 | esperance\n",
      "Processing Record 45 of Set 3 | zvishavane\n",
      "Processing Record 46 of Set 3 | coquimbo\n",
      "Processing Record 47 of Set 3 | camacha\n",
      "Processing Record 48 of Set 3 | new norfolk\n",
      "City not found. Skipping...\n",
      "Processing Record 49 of Set 3 | mar del plata\n",
      "Processing Record 50 of Set 3 | port alfred\n",
      "Processing Record 1 of Set 4 | altay\n",
      "Processing Record 2 of Set 4 | dubbo\n",
      "Processing Record 3 of Set 4 | beisfjord\n",
      "Processing Record 4 of Set 4 | dikson\n",
      "Processing Record 5 of Set 4 | lodwar\n",
      "Processing Record 6 of Set 4 | mys shmidta\n",
      "Processing Record 7 of Set 4 | riosucio\n",
      "Processing Record 8 of Set 4 | gasa\n",
      "Processing Record 9 of Set 4 | monrovia\n",
      "Processing Record 10 of Set 4 | santo antonio do ica\n",
      "Processing Record 11 of Set 4 | bethel\n",
      "Processing Record 12 of Set 4 | pontian kecil\n",
      "Processing Record 13 of Set 4 | tabon\n",
      "Processing Record 14 of Set 4 | ixtapa\n",
      "City not found. Skipping...\n",
      "Processing Record 15 of Set 4 | mezen\n",
      "Processing Record 16 of Set 4 | dharchula\n",
      "Processing Record 17 of Set 4 | georgetown\n",
      "Processing Record 18 of Set 4 | tazovskiy\n",
      "Processing Record 19 of Set 4 | lebu\n",
      "City not found. Skipping...\n",
      "City not found. Skipping...\n",
      "Processing Record 20 of Set 4 | batagay-alyta\n",
      "City not found. Skipping...\n",
      "Processing Record 21 of Set 4 | necochea\n",
      "Processing Record 22 of Set 4 | codrington\n",
      "Processing Record 23 of Set 4 | shitkino\n",
      "Processing Record 24 of Set 4 | qaqortoq\n",
      "City not found. Skipping...\n",
      "Processing Record 25 of Set 4 | kostomuksha\n",
      "Processing Record 26 of Set 4 | chapais\n"
     ]
    },
    {
     "name": "stdout",
     "output_type": "stream",
     "text": [
      "Processing Record 27 of Set 4 | bredasdorp\n",
      "Processing Record 28 of Set 4 | torbay\n",
      "Processing Record 29 of Set 4 | alice springs\n",
      "Processing Record 30 of Set 4 | puerto ayora\n",
      "City not found. Skipping...\n",
      "Processing Record 31 of Set 4 | san patricio\n",
      "Processing Record 32 of Set 4 | verkh-usugli\n",
      "Processing Record 33 of Set 4 | maningrida\n",
      "Processing Record 34 of Set 4 | geraldton\n",
      "Processing Record 35 of Set 4 | ilulissat\n",
      "Processing Record 36 of Set 4 | takoradi\n",
      "Processing Record 37 of Set 4 | broome\n",
      "Processing Record 38 of Set 4 | newport\n",
      "Processing Record 39 of Set 4 | vardo\n",
      "City not found. Skipping...\n",
      "Processing Record 40 of Set 4 | vestmanna\n",
      "Processing Record 41 of Set 4 | kirkenaer\n",
      "City not found. Skipping...\n",
      "Processing Record 42 of Set 4 | binzhou\n",
      "Processing Record 43 of Set 4 | ribeira grande\n",
      "Processing Record 44 of Set 4 | sinnamary\n",
      "Processing Record 45 of Set 4 | wanning\n",
      "Processing Record 46 of Set 4 | marsh harbour\n",
      "Processing Record 47 of Set 4 | hami\n",
      "Processing Record 48 of Set 4 | moindou\n",
      "Processing Record 49 of Set 4 | sumbawanga\n",
      "City not found. Skipping...\n",
      "Processing Record 50 of Set 4 | sao joao da barra\n",
      "Processing Record 1 of Set 5 | tuktoyaktuk\n",
      "Processing Record 2 of Set 5 | adrar\n",
      "Processing Record 3 of Set 5 | strezhevoy\n",
      "Processing Record 4 of Set 5 | cherskiy\n",
      "City not found. Skipping...\n",
      "Processing Record 5 of Set 5 | miri\n",
      "Processing Record 6 of Set 5 | itarsi\n",
      "Processing Record 7 of Set 5 | damaturu\n",
      "City not found. Skipping...\n",
      "Processing Record 8 of Set 5 | meulaboh\n",
      "Processing Record 9 of Set 5 | aljezur\n",
      "Processing Record 10 of Set 5 | belyy yar\n",
      "Processing Record 11 of Set 5 | olimpia\n",
      "Processing Record 12 of Set 5 | chokurdakh\n",
      "Processing Record 13 of Set 5 | lorengau\n",
      "Processing Record 14 of Set 5 | thompson\n",
      "Processing Record 15 of Set 5 | port macquarie\n",
      "City not found. Skipping...\n",
      "Processing Record 16 of Set 5 | navahrudak\n",
      "Processing Record 17 of Set 5 | varnavino\n",
      "Processing Record 18 of Set 5 | svetlaya\n",
      "Processing Record 19 of Set 5 | okhotsk\n",
      "Processing Record 20 of Set 5 | severo-yeniseyskiy\n",
      "Processing Record 21 of Set 5 | isiolo\n",
      "Processing Record 22 of Set 5 | goure\n",
      "Processing Record 23 of Set 5 | arenapolis\n",
      "Processing Record 24 of Set 5 | north platte\n",
      "Processing Record 25 of Set 5 | praia da vitoria\n",
      "Processing Record 26 of Set 5 | saint-louis\n",
      "Processing Record 27 of Set 5 | bonavista\n",
      "Processing Record 28 of Set 5 | avera\n",
      "Processing Record 29 of Set 5 | moncao\n",
      "Processing Record 30 of Set 5 | porto novo\n",
      "Processing Record 31 of Set 5 | joinville\n",
      "Processing Record 32 of Set 5 | atar\n",
      "Processing Record 33 of Set 5 | kozhva\n",
      "Processing Record 34 of Set 5 | aswan\n",
      "Processing Record 35 of Set 5 | aracuai\n",
      "Processing Record 36 of Set 5 | hithadhoo\n",
      "Processing Record 37 of Set 5 | isangel\n",
      "Processing Record 38 of Set 5 | skibbereen\n",
      "City not found. Skipping...\n",
      "Processing Record 39 of Set 5 | veraval\n",
      "Processing Record 40 of Set 5 | gonzalez\n",
      "Processing Record 41 of Set 5 | rocha\n",
      "Processing Record 42 of Set 5 | alyangula\n",
      "Processing Record 43 of Set 5 | bara\n",
      "Processing Record 44 of Set 5 | tuatapere\n",
      "Processing Record 45 of Set 5 | grand gaube\n",
      "Processing Record 46 of Set 5 | buraydah\n",
      "Processing Record 47 of Set 5 | port-cartier\n",
      "Processing Record 48 of Set 5 | solwezi\n",
      "City not found. Skipping...\n",
      "Processing Record 49 of Set 5 | port elizabeth\n",
      "Processing Record 50 of Set 5 | yar-sale\n",
      "Processing Record 1 of Set 6 | lae\n",
      "Processing Record 2 of Set 6 | morondava\n",
      "Processing Record 3 of Set 6 | soyo\n",
      "Processing Record 4 of Set 6 | kruisfontein\n",
      "Processing Record 5 of Set 6 | arawa\n",
      "Processing Record 6 of Set 6 | vestmannaeyjar\n",
      "Processing Record 7 of Set 6 | bredy\n",
      "Processing Record 8 of Set 6 | chissamba\n",
      "Processing Record 9 of Set 6 | tiksi\n",
      "Processing Record 10 of Set 6 | pevek\n",
      "Processing Record 11 of Set 6 | kargasok\n",
      "Processing Record 12 of Set 6 | lima\n",
      "City not found. Skipping...\n",
      "Processing Record 13 of Set 6 | udalguri\n",
      "Processing Record 14 of Set 6 | claresholm\n",
      "Processing Record 15 of Set 6 | port hawkesbury\n",
      "Processing Record 16 of Set 6 | noumea\n",
      "City not found. Skipping...\n",
      "Processing Record 17 of Set 6 | clarence town\n",
      "Processing Record 18 of Set 6 | longyearbyen\n",
      "Processing Record 19 of Set 6 | kijang\n",
      "Processing Record 20 of Set 6 | marawi\n",
      "Processing Record 21 of Set 6 | andenes\n",
      "Processing Record 22 of Set 6 | arman\n",
      "Processing Record 23 of Set 6 | aksu\n",
      "Processing Record 24 of Set 6 | iskateley\n",
      "Processing Record 25 of Set 6 | tecoanapa\n",
      "Processing Record 26 of Set 6 | kavieng\n",
      "Processing Record 27 of Set 6 | perth\n",
      "Processing Record 28 of Set 6 | sinnai\n",
      "Processing Record 29 of Set 6 | novyy urgal\n",
      "City not found. Skipping...\n",
      "Processing Record 30 of Set 6 | rochegda\n",
      "City not found. Skipping...\n",
      "Processing Record 31 of Set 6 | manicore\n",
      "Processing Record 32 of Set 6 | beitbridge\n",
      "Processing Record 33 of Set 6 | waitati\n",
      "Processing Record 34 of Set 6 | luanda\n",
      "Processing Record 35 of Set 6 | ossora\n",
      "Processing Record 36 of Set 6 | pingliang\n",
      "Processing Record 37 of Set 6 | nabire\n",
      "Processing Record 38 of Set 6 | cabo san lucas\n",
      "Processing Record 39 of Set 6 | saskylakh\n",
      "Processing Record 40 of Set 6 | kamenka\n",
      "Processing Record 41 of Set 6 | chicama\n",
      "Processing Record 42 of Set 6 | jawhar\n",
      "Processing Record 43 of Set 6 | balgazyn\n",
      "Processing Record 44 of Set 6 | almaznyy\n",
      "Processing Record 45 of Set 6 | north bend\n",
      "Processing Record 46 of Set 6 | fairbanks\n",
      "Processing Record 47 of Set 6 | uzunovo\n",
      "Processing Record 48 of Set 6 | aripuana\n",
      "Processing Record 49 of Set 6 | guerrero negro\n",
      "Processing Record 50 of Set 6 | nam tha\n",
      "Processing Record 1 of Set 7 | qandala\n",
      "Processing Record 2 of Set 7 | san carlos de bariloche\n",
      "Processing Record 3 of Set 7 | plettenberg bay\n",
      "Processing Record 4 of Set 7 | sao jose da coroa grande\n",
      "Processing Record 5 of Set 7 | kalmunai\n",
      "City not found. Skipping...\n",
      "Processing Record 6 of Set 7 | lafiagi\n",
      "Processing Record 7 of Set 7 | abonnema\n",
      "Processing Record 8 of Set 7 | oranjestad\n",
      "City not found. Skipping...\n",
      "Processing Record 9 of Set 7 | nhulunbuy\n",
      "Processing Record 10 of Set 7 | evanston\n",
      "Processing Record 11 of Set 7 | kiunga\n",
      "Processing Record 12 of Set 7 | charters towers\n",
      "Processing Record 13 of Set 7 | waw\n",
      "Processing Record 14 of Set 7 | castro\n",
      "City not found. Skipping...\n",
      "Processing Record 15 of Set 7 | castenaso\n",
      "Processing Record 16 of Set 7 | jalu\n",
      "Processing Record 17 of Set 7 | kumeny\n",
      "Processing Record 18 of Set 7 | cam pha\n",
      "City not found. Skipping...\n",
      "Processing Record 19 of Set 7 | sitka\n",
      "Processing Record 20 of Set 7 | saint-pierre\n",
      "Processing Record 21 of Set 7 | ilhabela\n",
      "Processing Record 22 of Set 7 | kloulklubed\n",
      "Processing Record 23 of Set 7 | dudinka\n",
      "Processing Record 24 of Set 7 | bud\n",
      "Processing Record 25 of Set 7 | meridian\n",
      "City not found. Skipping...\n",
      "City not found. Skipping...\n",
      "Processing Record 26 of Set 7 | leningradskiy\n",
      "Processing Record 27 of Set 7 | vedi\n",
      "Processing Record 28 of Set 7 | paamiut\n",
      "Processing Record 29 of Set 7 | pucallpa\n",
      "Processing Record 30 of Set 7 | belmonte\n",
      "Processing Record 31 of Set 7 | solnechnyy\n",
      "Processing Record 32 of Set 7 | laguna\n",
      "Processing Record 33 of Set 7 | barcelona\n",
      "Processing Record 34 of Set 7 | ligatne\n",
      "Processing Record 35 of Set 7 | mgandu\n",
      "Processing Record 36 of Set 7 | kidal\n",
      "City not found. Skipping...\n",
      "Processing Record 37 of Set 7 | san quintin\n",
      "Processing Record 38 of Set 7 | palana\n",
      "Processing Record 39 of Set 7 | sabya\n",
      "Processing Record 40 of Set 7 | torquay\n",
      "Processing Record 41 of Set 7 | jinxi\n",
      "Processing Record 42 of Set 7 | touros\n",
      "Processing Record 43 of Set 7 | moron\n",
      "Processing Record 44 of Set 7 | bandarbeyla\n",
      "Processing Record 45 of Set 7 | mangrol\n",
      "City not found. Skipping...\n",
      "Processing Record 46 of Set 7 | hargeysa\n",
      "Processing Record 47 of Set 7 | kashi\n",
      "Processing Record 48 of Set 7 | nanortalik\n",
      "Processing Record 49 of Set 7 | beringovskiy\n",
      "Processing Record 50 of Set 7 | bilibino\n",
      "City not found. Skipping...\n",
      "Processing Record 1 of Set 8 | mengen\n",
      "Processing Record 2 of Set 8 | whitehorse\n",
      "Processing Record 3 of Set 8 | yershov\n",
      "Processing Record 4 of Set 8 | korla\n",
      "City not found. Skipping...\n",
      "Processing Record 5 of Set 8 | beloha\n",
      "Processing Record 6 of Set 8 | klaksvik\n",
      "Processing Record 7 of Set 8 | raudeberg\n",
      "Processing Record 8 of Set 8 | shubarkuduk\n",
      "Processing Record 9 of Set 8 | stromness\n",
      "Processing Record 10 of Set 8 | burgeo\n",
      "Processing Record 11 of Set 8 | houma\n"
     ]
    },
    {
     "name": "stdout",
     "output_type": "stream",
     "text": [
      "Processing Record 12 of Set 8 | havelock\n",
      "Processing Record 13 of Set 8 | batagay\n",
      "Processing Record 14 of Set 8 | coruripe\n",
      "Processing Record 15 of Set 8 | karratha\n",
      "Processing Record 16 of Set 8 | qorveh\n",
      "Processing Record 17 of Set 8 | khilok\n",
      "Processing Record 18 of Set 8 | dhidhdhoo\n",
      "City not found. Skipping...\n",
      "Processing Record 19 of Set 8 | asosa\n",
      "City not found. Skipping...\n",
      "Processing Record 20 of Set 8 | sept-iles\n",
      "Processing Record 21 of Set 8 | rio grande\n",
      "Processing Record 22 of Set 8 | sao filipe\n",
      "Processing Record 23 of Set 8 | kruszwica\n",
      "Processing Record 24 of Set 8 | bilma\n",
      "Processing Record 25 of Set 8 | sebring\n",
      "Processing Record 26 of Set 8 | kontagora\n",
      "Processing Record 27 of Set 8 | cozumel\n",
      "Processing Record 28 of Set 8 | tres arroyos\n",
      "Processing Record 29 of Set 8 | luangwa\n",
      "Processing Record 30 of Set 8 | half moon bay\n",
      "Processing Record 31 of Set 8 | kavaratti\n",
      "Processing Record 32 of Set 8 | phan rang\n",
      "Processing Record 33 of Set 8 | nizwa\n",
      "Processing Record 34 of Set 8 | kita\n",
      "Processing Record 35 of Set 8 | maraa\n",
      "Processing Record 36 of Set 8 | americo brasiliense\n",
      "City not found. Skipping...\n",
      "Processing Record 37 of Set 8 | chuy\n",
      "Processing Record 38 of Set 8 | misratah\n",
      "Processing Record 39 of Set 8 | beyneu\n",
      "Processing Record 40 of Set 8 | vao\n",
      "Processing Record 41 of Set 8 | manokwari\n",
      "Processing Record 42 of Set 8 | mahibadhoo\n",
      "City not found. Skipping...\n",
      "Processing Record 43 of Set 8 | calabazar de sagua\n",
      "Processing Record 44 of Set 8 | gamba\n",
      "Processing Record 45 of Set 8 | phimai\n",
      "Processing Record 46 of Set 8 | kyra\n",
      "Processing Record 47 of Set 8 | balabac\n",
      "Processing Record 48 of Set 8 | christchurch\n",
      "Processing Record 49 of Set 8 | nantucket\n",
      "Processing Record 50 of Set 8 | bathsheba\n",
      "Processing Record 1 of Set 9 | taoudenni\n",
      "Processing Record 2 of Set 9 | kotido\n",
      "Processing Record 3 of Set 9 | ranong\n",
      "Processing Record 4 of Set 9 | araouane\n",
      "Processing Record 5 of Set 9 | narsaq\n",
      "Processing Record 6 of Set 9 | churapcha\n",
      "Processing Record 7 of Set 9 | itororo\n",
      "Processing Record 8 of Set 9 | bichena\n",
      "Processing Record 9 of Set 9 | paris\n",
      "Processing Record 10 of Set 9 | timra\n",
      "City not found. Skipping...\n",
      "Processing Record 11 of Set 9 | san cristobal\n",
      "Processing Record 12 of Set 9 | klerksdorp\n",
      "Processing Record 13 of Set 9 | adeje\n",
      "Processing Record 14 of Set 9 | clarksburg\n",
      "Processing Record 15 of Set 9 | darovskoy\n",
      "Processing Record 16 of Set 9 | vila velha\n",
      "Processing Record 17 of Set 9 | gondanglegi\n",
      "Processing Record 18 of Set 9 | tracy\n",
      "Processing Record 19 of Set 9 | nuuk\n",
      "Processing Record 20 of Set 9 | abay\n",
      "City not found. Skipping...\n",
      "Processing Record 21 of Set 9 | sambava\n",
      "Processing Record 22 of Set 9 | dunedin\n",
      "Processing Record 23 of Set 9 | pangnirtung\n",
      "Processing Record 24 of Set 9 | zyryanka\n",
      "City not found. Skipping...\n",
      "Processing Record 25 of Set 9 | san vicente\n",
      "Processing Record 26 of Set 9 | tulun\n",
      "Processing Record 27 of Set 9 | ternate\n",
      "Processing Record 28 of Set 9 | vanimo\n",
      "Processing Record 29 of Set 9 | tawang\n",
      "Processing Record 30 of Set 9 | ashland\n",
      "Processing Record 31 of Set 9 | kirakira\n",
      "Processing Record 32 of Set 9 | dwarka\n",
      "Processing Record 33 of Set 9 | mahajanga\n",
      "Processing Record 34 of Set 9 | hambantota\n",
      "Processing Record 35 of Set 9 | samarkand\n",
      "Processing Record 36 of Set 9 | chara\n",
      "Processing Record 37 of Set 9 | mareeba\n",
      "Processing Record 38 of Set 9 | riyadh\n",
      "Processing Record 39 of Set 9 | pochutla\n",
      "City not found. Skipping...\n",
      "Processing Record 40 of Set 9 | vila franca do campo\n",
      "City not found. Skipping...\n",
      "Processing Record 41 of Set 9 | high level\n",
      "Processing Record 42 of Set 9 | westport\n",
      "Processing Record 43 of Set 9 | boyolangu\n",
      "City not found. Skipping...\n",
      "City not found. Skipping...\n",
      "City not found. Skipping...\n",
      "Processing Record 44 of Set 9 | inirida\n",
      "Processing Record 45 of Set 9 | mayumba\n",
      "Processing Record 46 of Set 9 | emba\n",
      "Processing Record 47 of Set 9 | issaquah\n",
      "Processing Record 48 of Set 9 | tilichiki\n",
      "City not found. Skipping...\n",
      "Processing Record 49 of Set 9 | aksarka\n",
      "Processing Record 50 of Set 9 | dulovo\n",
      "City not found. Skipping...\n",
      "Processing Record 1 of Set 10 | casablanca\n",
      "Processing Record 2 of Set 10 | svetlogorsk\n",
      "Processing Record 3 of Set 10 | ramhormoz\n",
      "Processing Record 4 of Set 10 | tezu\n",
      "Processing Record 5 of Set 10 | bhabua\n",
      "Processing Record 6 of Set 10 | niquelandia\n",
      "Processing Record 7 of Set 10 | tupik\n",
      "Processing Record 8 of Set 10 | talnakh\n",
      "Processing Record 9 of Set 10 | freeport\n",
      "Processing Record 10 of Set 10 | schwedt\n",
      "Processing Record 11 of Set 10 | churhat\n",
      "Processing Record 12 of Set 10 | gat\n",
      "Processing Record 13 of Set 10 | healdsburg\n",
      "Processing Record 14 of Set 10 | flin flon\n",
      "Processing Record 15 of Set 10 | abu dhabi\n",
      "Processing Record 16 of Set 10 | changji\n",
      "Processing Record 17 of Set 10 | aykhal\n",
      "City not found. Skipping...\n",
      "Processing Record 18 of Set 10 | borogontsy\n",
      "Processing Record 19 of Set 10 | kalmar\n",
      "Processing Record 20 of Set 10 | nome\n",
      "Processing Record 21 of Set 10 | brigantine\n",
      "Processing Record 22 of Set 10 | namatanai\n",
      "Processing Record 23 of Set 10 | clyde river\n",
      "Processing Record 24 of Set 10 | faanui\n",
      "Processing Record 25 of Set 10 | gurlan\n",
      "Processing Record 26 of Set 10 | mbandaka\n",
      "Processing Record 27 of Set 10 | krasnyy chikoy\n",
      "Processing Record 28 of Set 10 | palmer\n",
      "Processing Record 29 of Set 10 | romitan\n",
      "Processing Record 30 of Set 10 | waverly\n",
      "Processing Record 31 of Set 10 | moerai\n",
      "Processing Record 32 of Set 10 | crateus\n",
      "Processing Record 33 of Set 10 | ghanzi\n",
      "City not found. Skipping...\n",
      "Processing Record 34 of Set 10 | gorontalo\n",
      "Processing Record 35 of Set 10 | saint-augustin\n",
      "Processing Record 36 of Set 10 | nara\n",
      "Processing Record 37 of Set 10 | cabra\n",
      "Processing Record 38 of Set 10 | kimbe\n",
      "Processing Record 39 of Set 10 | plouzane\n",
      "Processing Record 40 of Set 10 | unai\n",
      "Processing Record 41 of Set 10 | amahai\n",
      "Processing Record 42 of Set 10 | fastovetskaya\n",
      "Processing Record 43 of Set 10 | koungou\n",
      "Processing Record 44 of Set 10 | kyren\n",
      "Processing Record 45 of Set 10 | at-bashi\n",
      "Processing Record 46 of Set 10 | sohag\n",
      "City not found. Skipping...\n",
      "Processing Record 47 of Set 10 | zhigalovo\n",
      "Processing Record 48 of Set 10 | talcahuano\n",
      "Processing Record 49 of Set 10 | guangyuan\n",
      "City not found. Skipping...\n",
      "Processing Record 50 of Set 10 | kangaatsiaq\n",
      "Processing Record 1 of Set 11 | acapulco\n",
      "Processing Record 2 of Set 11 | etchoropo\n",
      "Processing Record 3 of Set 11 | labytnangi\n",
      "Processing Record 4 of Set 11 | jacareacanga\n",
      "Processing Record 5 of Set 11 | katsuura\n",
      "Processing Record 6 of Set 11 | jiangkou\n",
      "Processing Record 7 of Set 11 | male\n",
      "Processing Record 8 of Set 11 | majene\n",
      "Processing Record 9 of Set 11 | tsabong\n",
      "City not found. Skipping...\n",
      "Processing Record 10 of Set 11 | asau\n",
      "Processing Record 11 of Set 11 | samana\n",
      "Processing Record 12 of Set 11 | manzhouli\n",
      "Processing Record 13 of Set 11 | vostok\n",
      "Processing Record 14 of Set 11 | songjianghe\n",
      "Processing Record 15 of Set 11 | farah\n",
      "Processing Record 16 of Set 11 | caravelas\n",
      "City not found. Skipping...\n",
      "Processing Record 17 of Set 11 | hobyo\n",
      "Processing Record 18 of Set 11 | olafsvik\n",
      "Processing Record 19 of Set 11 | namangan\n",
      "Processing Record 20 of Set 11 | russell\n",
      "Processing Record 21 of Set 11 | ngunguru\n",
      "City not found. Skipping...\n",
      "Processing Record 22 of Set 11 | mae sai\n",
      "Processing Record 23 of Set 11 | teya\n",
      "Processing Record 24 of Set 11 | oppdal\n",
      "Processing Record 25 of Set 11 | weligama\n",
      "Processing Record 26 of Set 11 | makakilo city\n",
      "Processing Record 27 of Set 11 | dvinskoy\n",
      "Processing Record 28 of Set 11 | along\n",
      "Processing Record 29 of Set 11 | yate\n",
      "Processing Record 30 of Set 11 | griffith\n",
      "Processing Record 31 of Set 11 | huarmey\n",
      "Processing Record 32 of Set 11 | kathu\n",
      "Processing Record 33 of Set 11 | brownsville\n",
      "Processing Record 34 of Set 11 | bolobo\n",
      "Processing Record 35 of Set 11 | marsa matruh\n",
      "Processing Record 36 of Set 11 | berdigestyakh\n",
      "Processing Record 37 of Set 11 | muroto\n",
      "Processing Record 38 of Set 11 | buxton\n",
      "Processing Record 39 of Set 11 | susanville\n",
      "Processing Record 40 of Set 11 | mehamn\n",
      "Processing Record 41 of Set 11 | sur\n",
      "Processing Record 42 of Set 11 | nenjiang\n",
      "\n",
      "-----------------------------\n",
      "Data Retrieval Complete\n",
      "-----------------------------\n"
     ]
    }
   ],
   "source": [
    "#Variables to keep track of response number\n",
    "counter_one = 0\n",
    "set_one = 1\n",
    "\n",
    "print('''\n",
    "-----------------------------\n",
    "Beginning Data Retrieval\n",
    "-----------------------------''')\n",
    "\n",
    "#Run the API call for each city\n",
    "# loops for creating dataframe columns\n",
    "for city in cities:\n",
    "    try:\n",
    "        response = requests.get(query_url + city.replace(\" \",\"&\")).json()\n",
    "        lat.append(response['coord']['lat'])\n",
    "        lng.append(response['coord']['lon'])\n",
    "        max_temp.append(response['main']['temp_max'])\n",
    "        humidity.append(response['main']['humidity'])\n",
    "        cloudiness.append(response['clouds']['all'])\n",
    "        wind_speed.append(response['wind']['speed'])\n",
    "        countries.append(response['sys']['country'])\n",
    "        dates.append(response['dt'])\n",
    "        \n",
    "        if counter_one == 50:\n",
    "            counter_one = 1\n",
    "            set_one += 1\n",
    "            city_name.append(city)\n",
    "            time.sleep(5)\n",
    "        else:\n",
    "            counter_one += 1\n",
    "            city_name.append(city)\n",
    "        print(f\"Processing Record {counter_one} of Set {set_one} | {city}\")\n",
    "    except Exception:\n",
    "        print(\"City not found. Skipping...\")\n",
    "print('''\n",
    "-----------------------------\n",
    "Data Retrieval Complete\n",
    "-----------------------------''')"
   ]
  },
  {
   "cell_type": "markdown",
   "metadata": {},
   "source": [
    "### Convert Raw Data to DataFrame\n",
    "* Export the city data into a .csv.\n",
    "* Display the DataFrame"
   ]
  },
  {
   "cell_type": "code",
   "execution_count": 9,
   "metadata": {},
   "outputs": [
    {
     "data": {
      "text/html": [
       "<div>\n",
       "<style scoped>\n",
       "    .dataframe tbody tr th:only-of-type {\n",
       "        vertical-align: middle;\n",
       "    }\n",
       "\n",
       "    .dataframe tbody tr th {\n",
       "        vertical-align: top;\n",
       "    }\n",
       "\n",
       "    .dataframe thead th {\n",
       "        text-align: right;\n",
       "    }\n",
       "</style>\n",
       "<table border=\"1\" class=\"dataframe\">\n",
       "  <thead>\n",
       "    <tr style=\"text-align: right;\">\n",
       "      <th></th>\n",
       "      <th>City</th>\n",
       "      <th>Lat</th>\n",
       "      <th>Lng</th>\n",
       "      <th>Max Temp</th>\n",
       "      <th>Humidity</th>\n",
       "      <th>Cloudiness</th>\n",
       "      <th>Wind Speed</th>\n",
       "      <th>Country</th>\n",
       "      <th>Date</th>\n",
       "    </tr>\n",
       "  </thead>\n",
       "  <tbody>\n",
       "    <tr>\n",
       "      <th>0</th>\n",
       "      <td>ancud</td>\n",
       "      <td>-41.8697</td>\n",
       "      <td>-73.8203</td>\n",
       "      <td>42.01</td>\n",
       "      <td>100</td>\n",
       "      <td>20</td>\n",
       "      <td>3.44</td>\n",
       "      <td>CL</td>\n",
       "      <td>1620702783</td>\n",
       "    </tr>\n",
       "    <tr>\n",
       "      <th>1</th>\n",
       "      <td>port lincoln</td>\n",
       "      <td>-7.0349</td>\n",
       "      <td>29.7638</td>\n",
       "      <td>67.35</td>\n",
       "      <td>76</td>\n",
       "      <td>50</td>\n",
       "      <td>6.40</td>\n",
       "      <td>CD</td>\n",
       "      <td>1620702783</td>\n",
       "    </tr>\n",
       "    <tr>\n",
       "      <th>2</th>\n",
       "      <td>luderitz</td>\n",
       "      <td>-26.6481</td>\n",
       "      <td>15.1594</td>\n",
       "      <td>68.52</td>\n",
       "      <td>41</td>\n",
       "      <td>0</td>\n",
       "      <td>4.21</td>\n",
       "      <td>NA</td>\n",
       "      <td>1620702784</td>\n",
       "    </tr>\n",
       "    <tr>\n",
       "      <th>3</th>\n",
       "      <td>kupang</td>\n",
       "      <td>-10.1667</td>\n",
       "      <td>123.5833</td>\n",
       "      <td>87.80</td>\n",
       "      <td>58</td>\n",
       "      <td>20</td>\n",
       "      <td>18.41</td>\n",
       "      <td>ID</td>\n",
       "      <td>1620702784</td>\n",
       "    </tr>\n",
       "    <tr>\n",
       "      <th>4</th>\n",
       "      <td>albany</td>\n",
       "      <td>42.6001</td>\n",
       "      <td>-73.9662</td>\n",
       "      <td>51.01</td>\n",
       "      <td>75</td>\n",
       "      <td>87</td>\n",
       "      <td>5.84</td>\n",
       "      <td>US</td>\n",
       "      <td>1620702772</td>\n",
       "    </tr>\n",
       "  </tbody>\n",
       "</table>\n",
       "</div>"
      ],
      "text/plain": [
       "           City      Lat       Lng  Max Temp  Humidity  Cloudiness  \\\n",
       "0         ancud -41.8697  -73.8203     42.01       100          20   \n",
       "1  port lincoln  -7.0349   29.7638     67.35        76          50   \n",
       "2      luderitz -26.6481   15.1594     68.52        41           0   \n",
       "3        kupang -10.1667  123.5833     87.80        58          20   \n",
       "4        albany  42.6001  -73.9662     51.01        75          87   \n",
       "\n",
       "   Wind Speed Country        Date  \n",
       "0        3.44      CL  1620702783  \n",
       "1        6.40      CD  1620702783  \n",
       "2        4.21      NA  1620702784  \n",
       "3       18.41      ID  1620702784  \n",
       "4        5.84      US  1620702772  "
      ]
     },
     "execution_count": 9,
     "metadata": {},
     "output_type": "execute_result"
    }
   ],
   "source": [
    "# Create a dictionary for establishing dataframe\n",
    "city_dict = {\n",
    "                \"City\":city_name,\n",
    "                \"Lat\":lat,\n",
    "                \"Lng\":lng,\n",
    "                \"Max Temp\":max_temp,\n",
    "                \"Humidity\":humidity,\n",
    "                \"Cloudiness\":cloudiness,\n",
    "                \"Wind Speed\":wind_speed,\n",
    "                \"Country\":countries,\n",
    "                \"Date\":dates,       \n",
    "            }\n",
    "\n",
    "city_data_df = pd.DataFrame(city_dict)\n",
    "\n",
    "# Write and save to CSV\n",
    "city_data_csv = city_data_df.to_csv('city_data.csv',header = True)\n",
    "\n",
    "# Display the df\n",
    "city_data_df.head()"
   ]
  },
  {
   "cell_type": "code",
   "execution_count": 36,
   "metadata": {},
   "outputs": [
    {
     "data": {
      "text/html": [
       "<div>\n",
       "<style scoped>\n",
       "    .dataframe tbody tr th:only-of-type {\n",
       "        vertical-align: middle;\n",
       "    }\n",
       "\n",
       "    .dataframe tbody tr th {\n",
       "        vertical-align: top;\n",
       "    }\n",
       "\n",
       "    .dataframe thead th {\n",
       "        text-align: right;\n",
       "    }\n",
       "</style>\n",
       "<table border=\"1\" class=\"dataframe\">\n",
       "  <thead>\n",
       "    <tr style=\"text-align: right;\">\n",
       "      <th></th>\n",
       "      <th>Lat</th>\n",
       "      <th>Lng</th>\n",
       "      <th>Max Temp</th>\n",
       "      <th>Humidity</th>\n",
       "      <th>Cloudiness</th>\n",
       "      <th>Wind Speed</th>\n",
       "      <th>Date</th>\n",
       "    </tr>\n",
       "  </thead>\n",
       "  <tbody>\n",
       "    <tr>\n",
       "      <th>count</th>\n",
       "      <td>542.000000</td>\n",
       "      <td>542.000000</td>\n",
       "      <td>542.000000</td>\n",
       "      <td>542.000000</td>\n",
       "      <td>542.000000</td>\n",
       "      <td>542.000000</td>\n",
       "      <td>5.420000e+02</td>\n",
       "    </tr>\n",
       "    <tr>\n",
       "      <th>mean</th>\n",
       "      <td>23.456390</td>\n",
       "      <td>24.668338</td>\n",
       "      <td>61.840277</td>\n",
       "      <td>71.431734</td>\n",
       "      <td>56.793358</td>\n",
       "      <td>7.615387</td>\n",
       "      <td>1.620703e+09</td>\n",
       "    </tr>\n",
       "    <tr>\n",
       "      <th>std</th>\n",
       "      <td>31.996578</td>\n",
       "      <td>86.126978</td>\n",
       "      <td>17.776775</td>\n",
       "      <td>21.108337</td>\n",
       "      <td>38.115712</td>\n",
       "      <td>5.110304</td>\n",
       "      <td>7.782064e+01</td>\n",
       "    </tr>\n",
       "    <tr>\n",
       "      <th>min</th>\n",
       "      <td>-54.800000</td>\n",
       "      <td>-175.200000</td>\n",
       "      <td>14.720000</td>\n",
       "      <td>1.000000</td>\n",
       "      <td>0.000000</td>\n",
       "      <td>0.130000</td>\n",
       "      <td>1.620703e+09</td>\n",
       "    </tr>\n",
       "    <tr>\n",
       "      <th>25%</th>\n",
       "      <td>-3.415675</td>\n",
       "      <td>-46.029975</td>\n",
       "      <td>47.665000</td>\n",
       "      <td>62.000000</td>\n",
       "      <td>20.000000</td>\n",
       "      <td>3.690000</td>\n",
       "      <td>1.620703e+09</td>\n",
       "    </tr>\n",
       "    <tr>\n",
       "      <th>50%</th>\n",
       "      <td>29.228550</td>\n",
       "      <td>29.409850</td>\n",
       "      <td>62.600000</td>\n",
       "      <td>74.500000</td>\n",
       "      <td>73.000000</td>\n",
       "      <td>6.640000</td>\n",
       "      <td>1.620703e+09</td>\n",
       "    </tr>\n",
       "    <tr>\n",
       "      <th>75%</th>\n",
       "      <td>50.158425</td>\n",
       "      <td>96.157150</td>\n",
       "      <td>77.575000</td>\n",
       "      <td>88.000000</td>\n",
       "      <td>93.000000</td>\n",
       "      <td>10.360000</td>\n",
       "      <td>1.620703e+09</td>\n",
       "    </tr>\n",
       "    <tr>\n",
       "      <th>max</th>\n",
       "      <td>78.218600</td>\n",
       "      <td>179.316700</td>\n",
       "      <td>96.010000</td>\n",
       "      <td>100.000000</td>\n",
       "      <td>100.000000</td>\n",
       "      <td>30.330000</td>\n",
       "      <td>1.620703e+09</td>\n",
       "    </tr>\n",
       "  </tbody>\n",
       "</table>\n",
       "</div>"
      ],
      "text/plain": [
       "              Lat         Lng    Max Temp    Humidity  Cloudiness  Wind Speed  \\\n",
       "count  542.000000  542.000000  542.000000  542.000000  542.000000  542.000000   \n",
       "mean    23.456390   24.668338   61.840277   71.431734   56.793358    7.615387   \n",
       "std     31.996578   86.126978   17.776775   21.108337   38.115712    5.110304   \n",
       "min    -54.800000 -175.200000   14.720000    1.000000    0.000000    0.130000   \n",
       "25%     -3.415675  -46.029975   47.665000   62.000000   20.000000    3.690000   \n",
       "50%     29.228550   29.409850   62.600000   74.500000   73.000000    6.640000   \n",
       "75%     50.158425   96.157150   77.575000   88.000000   93.000000   10.360000   \n",
       "max     78.218600  179.316700   96.010000  100.000000  100.000000   30.330000   \n",
       "\n",
       "               Date  \n",
       "count  5.420000e+02  \n",
       "mean   1.620703e+09  \n",
       "std    7.782064e+01  \n",
       "min    1.620703e+09  \n",
       "25%    1.620703e+09  \n",
       "50%    1.620703e+09  \n",
       "75%    1.620703e+09  \n",
       "max    1.620703e+09  "
      ]
     },
     "execution_count": 36,
     "metadata": {},
     "output_type": "execute_result"
    }
   ],
   "source": [
    "# Create a Summary Statistics Dataframe\n",
    "numbers = {\n",
    "                \"Lat\":lat,\n",
    "                \"Lng\":lng,\n",
    "                \"Max Temp\":max_temp,\n",
    "                \"Humidity\":humidity,\n",
    "                \"Cloudiness\":cloudiness,\n",
    "                \"Wind Speed\":wind_speed,\n",
    "                \"Date\":dates,       \n",
    "            }\n",
    "\n",
    "number_stats_df = pd.DataFrame(numbers)\n",
    "number_stats_df.describe()"
   ]
  },
  {
   "cell_type": "markdown",
   "metadata": {},
   "source": [
    "## Inspect the data and remove the cities where the humidity > 100%.\n",
    "----\n",
    "Skip this step if there are no cities that have humidity > 100%. "
   ]
  },
  {
   "cell_type": "code",
   "execution_count": 17,
   "metadata": {},
   "outputs": [
    {
     "data": {
      "text/plain": [
       "Int64Index([], dtype='int64')"
      ]
     },
     "execution_count": 17,
     "metadata": {},
     "output_type": "execute_result"
    }
   ],
   "source": [
    "#  Get the indices of cities that have humidity over 100%.\n"
   ]
  },
  {
   "cell_type": "code",
   "execution_count": 19,
   "metadata": {},
   "outputs": [
    {
     "data": {
      "text/html": [
       "<div>\n",
       "<style scoped>\n",
       "    .dataframe tbody tr th:only-of-type {\n",
       "        vertical-align: middle;\n",
       "    }\n",
       "\n",
       "    .dataframe tbody tr th {\n",
       "        vertical-align: top;\n",
       "    }\n",
       "\n",
       "    .dataframe thead th {\n",
       "        text-align: right;\n",
       "    }\n",
       "</style>\n",
       "<table border=\"1\" class=\"dataframe\">\n",
       "  <thead>\n",
       "    <tr style=\"text-align: right;\">\n",
       "      <th></th>\n",
       "      <th>City</th>\n",
       "      <th>Lat</th>\n",
       "      <th>Lng</th>\n",
       "      <th>Max Temp</th>\n",
       "      <th>Humidity</th>\n",
       "      <th>Cloudiness</th>\n",
       "      <th>Wind Speed</th>\n",
       "      <th>Country</th>\n",
       "      <th>Date</th>\n",
       "    </tr>\n",
       "  </thead>\n",
       "  <tbody>\n",
       "    <tr>\n",
       "      <td>0</td>\n",
       "      <td>butaritari</td>\n",
       "      <td>3.07</td>\n",
       "      <td>172.79</td>\n",
       "      <td>83.32</td>\n",
       "      <td>74</td>\n",
       "      <td>84</td>\n",
       "      <td>10.42</td>\n",
       "      <td>KI</td>\n",
       "      <td>1593605283</td>\n",
       "    </tr>\n",
       "    <tr>\n",
       "      <td>1</td>\n",
       "      <td>yerbogachen</td>\n",
       "      <td>61.28</td>\n",
       "      <td>108.01</td>\n",
       "      <td>79.52</td>\n",
       "      <td>58</td>\n",
       "      <td>20</td>\n",
       "      <td>7.70</td>\n",
       "      <td>RU</td>\n",
       "      <td>1593605121</td>\n",
       "    </tr>\n",
       "    <tr>\n",
       "      <td>2</td>\n",
       "      <td>cape town</td>\n",
       "      <td>-33.93</td>\n",
       "      <td>18.42</td>\n",
       "      <td>73.00</td>\n",
       "      <td>77</td>\n",
       "      <td>27</td>\n",
       "      <td>4.70</td>\n",
       "      <td>ZA</td>\n",
       "      <td>1593605039</td>\n",
       "    </tr>\n",
       "    <tr>\n",
       "      <td>3</td>\n",
       "      <td>touba</td>\n",
       "      <td>8.28</td>\n",
       "      <td>-7.68</td>\n",
       "      <td>79.97</td>\n",
       "      <td>75</td>\n",
       "      <td>82</td>\n",
       "      <td>3.58</td>\n",
       "      <td>CI</td>\n",
       "      <td>1593605284</td>\n",
       "    </tr>\n",
       "    <tr>\n",
       "      <td>4</td>\n",
       "      <td>jamestown</td>\n",
       "      <td>42.10</td>\n",
       "      <td>-79.24</td>\n",
       "      <td>64.00</td>\n",
       "      <td>88</td>\n",
       "      <td>1</td>\n",
       "      <td>6.93</td>\n",
       "      <td>US</td>\n",
       "      <td>1593605284</td>\n",
       "    </tr>\n",
       "  </tbody>\n",
       "</table>\n",
       "</div>"
      ],
      "text/plain": [
       "          City    Lat     Lng  Max Temp  Humidity  Cloudiness  Wind Speed  \\\n",
       "0   butaritari   3.07  172.79     83.32        74          84       10.42   \n",
       "1  yerbogachen  61.28  108.01     79.52        58          20        7.70   \n",
       "2    cape town -33.93   18.42     73.00        77          27        4.70   \n",
       "3        touba   8.28   -7.68     79.97        75          82        3.58   \n",
       "4    jamestown  42.10  -79.24     64.00        88           1        6.93   \n",
       "\n",
       "  Country        Date  \n",
       "0      KI  1593605283  \n",
       "1      RU  1593605121  \n",
       "2      ZA  1593605039  \n",
       "3      CI  1593605284  \n",
       "4      US  1593605284  "
      ]
     },
     "execution_count": 19,
     "metadata": {},
     "output_type": "execute_result"
    }
   ],
   "source": [
    "# Make a new DataFrame equal to the city data to drop all humidity outliers by index.\n",
    "# Passing \"inplace=False\" will make a copy of the city_data DataFrame, which we call \"clean_city_data\".\n"
   ]
  },
  {
   "cell_type": "markdown",
   "metadata": {},
   "source": [
    "## Plotting the Data\n",
    "* Use proper labeling of the plots using plot titles (including date of analysis) and axes labels.\n",
    "* Save the plotted figures as .pngs."
   ]
  },
  {
   "cell_type": "markdown",
   "metadata": {},
   "source": [
    "## Latitude vs. Temperature Plot"
   ]
  },
  {
   "cell_type": "code",
   "execution_count": 134,
   "metadata": {},
   "outputs": [
    {
     "data": {
      "image/png": "[encoded data removed]",
      "text/plain": [
       "<Figure size 432x288 with 1 Axes>"
      ]
     },
     "metadata": {
      "needs_background": "light"
     },
     "output_type": "display_data"
    }
   ],
   "source": [
    "# Create a scatter plot of Latitude vs Max Temp\n",
    "plt.scatter(city_data_df[\"Lat\"],city_data_df[\"Max Temp\"],edgecolors=\"black\",facecolors=\"lightblue\",alpha=1)\n",
    "plt.title(\"City Latitude vs. Max Temperature (05/11/21)\")\n",
    "plt.xlabel(\"Latitude\")\n",
    "plt.ylabel(\"Max Temperature (F)\")\n",
    "plt.grid (b=True,which=\"major\",axis=\"both\",linestyle=\"-\",color=\"grey\")\n",
    "# Save a picture of the plot as .png file\n",
    "plt.savefig(\"Images/latvsmaxtemp.png\")\n",
    "plt.show()"
   ]
  },
  {
   "cell_type": "markdown",
   "metadata": {},
   "source": [
    "## Latitude vs. Humidity Plot"
   ]
  },
  {
   "cell_type": "code",
   "execution_count": 133,
   "metadata": {},
   "outputs": [
    {
     "data": {
      "image/png": "[encoded data removed]",
      "text/plain": [
       "<Figure size 432x288 with 1 Axes>"
      ]
     },
     "metadata": {
      "needs_background": "light"
     },
     "output_type": "display_data"
    }
   ],
   "source": [
    "# Create a scatter plot of Latitude vs Humidity\n",
    "plt.scatter(city_data_df[\"Lat\"],city_data_df[\"Humidity\"],edgecolors=\"black\",facecolors=\"lightblue\",alpha=1)\n",
    "plt.title(\"City Latitude vs. Humidity (05/11/21)\")\n",
    "plt.xlabel(\"Latitude\")\n",
    "plt.ylabel(\"Humidity (%)\")\n",
    "plt.grid (b=True,which=\"major\",axis=\"both\",linestyle=\"-\",color=\"grey\")\n",
    "# Save a picture of the plot as .png file\n",
    "plt.savefig(\"Images/latvshumidity.png\")\n",
    "plt.show()"
   ]
  },
  {
   "cell_type": "markdown",
   "metadata": {},
   "source": [
    "## Latitude vs. Cloudiness Plot"
   ]
  },
  {
   "cell_type": "code",
   "execution_count": 132,
   "metadata": {},
   "outputs": [
    {
     "data": {
      "image/png": "[encoded data removed]",
      "text/plain": [
       "<Figure size 432x288 with 1 Axes>"
      ]
     },
     "metadata": {
      "needs_background": "light"
     },
     "output_type": "display_data"
    }
   ],
   "source": [
    "# Create a scatter plot of Latitude vs Cloudiness\n",
    "plt.scatter(city_data_df[\"Lat\"],city_data_df[\"Cloudiness\"],edgecolors=\"black\",facecolors=\"lightblue\",alpha=1)\n",
    "plt.title(\"City Latitude vs. Cloudiness (05/11/21)\")\n",
    "plt.xlabel(\"Latitude\")\n",
    "plt.ylabel(\"Cloudiness (%)\")\n",
    "plt.grid (b=True,which=\"major\",axis=\"both\",linestyle=\"-\",color=\"grey\")\n",
    "# Save a picture of the plot as .png file\n",
    "plt.savefig(\"Images/latvscloudiness.png\")\n",
    "plt.show()"
   ]
  },
  {
   "cell_type": "markdown",
   "metadata": {},
   "source": [
    "## Latitude vs. Wind Speed Plot"
   ]
  },
  {
   "cell_type": "code",
   "execution_count": 131,
   "metadata": {},
   "outputs": [
    {
     "data": {
      "image/png": "[encoded data removed]",
      "text/plain": [
       "<Figure size 432x288 with 1 Axes>"
      ]
     },
     "metadata": {
      "needs_background": "light"
     },
     "output_type": "display_data"
    }
   ],
   "source": [
    "# Create a scatter plot of Latitude vs Wind Speed\n",
    "plt.scatter(city_data_df[\"Lat\"],city_data_df[\"Wind Speed\"],edgecolors=\"black\",facecolors=\"lightblue\",alpha=1)\n",
    "plt.title(\"City Latitude vs. Wind Speed (05/11/21)\")\n",
    "plt.xlabel(\"Latitude\")\n",
    "plt.ylabel(\"Wind Speed (mph)\")\n",
    "plt.grid (b=True,which=\"major\",axis=\"both\",linestyle=\"-\",color=\"grey\")\n",
    "# Save a picture of the plot as .png file\n",
    "plt.savefig(\"Images/latvswindspeed.png\")\n",
    "plt.show()"
   ]
  },
  {
   "cell_type": "markdown",
   "metadata": {},
   "source": [
    "## Linear Regression"
   ]
  },
  {
   "cell_type": "code",
   "execution_count": 82,
   "metadata": {},
   "outputs": [],
   "source": [
    "# Define the variables for cities in the Northern and Southern Hemispheres\n",
    "northern_hem = city_data_df.loc[city_data_df[\"Lat\"] >= 0.0]\n",
    "northern_hem.reset_index(inplace=True)\n",
    "\n",
    "southern_hem = city_data_df.loc[city_data_df[\"Lat\"] < 0.0]\n",
    "southern_hem.reset_index(inplace=True)"
   ]
  },
  {
   "cell_type": "markdown",
   "metadata": {},
   "source": [
    "####  Northern Hemisphere - Max Temp vs. Latitude Linear Regression"
   ]
  },
  {
   "cell_type": "code",
   "execution_count": 130,
   "metadata": {},
   "outputs": [
    {
     "name": "stdout",
     "output_type": "stream",
     "text": [
      "The r-squared is: 0.7478621172641848\n"
     ]
    },
    {
     "data": {
      "image/png": "[encoded data removed]",
      "text/plain": [
       "<Figure size 432x288 with 1 Axes>"
      ]
     },
     "metadata": {
      "needs_background": "light"
     },
     "output_type": "display_data"
    }
   ],
   "source": [
    "# Linear Regression equation and Print out the r-squared value along with the plot.\n",
    "x_values = northern_hem[\"Lat\"]\n",
    "y_values = northern_hem[\"Max Temp\"]\n",
    "(slope, intercept, rvalue, pvalue, stderr) = linregress(x_values, y_values)\n",
    "regress_values = x_values * slope + intercept\n",
    "line_eq = \"y = \" + str(round(slope,2)) + \"x + \" + str(round(intercept,2))\n",
    "plt.scatter(x_values,y_values)\n",
    "plt.plot(x_values,regress_values,\"r-\")\n",
    "plt.annotate(line_eq,(10,20),fontsize=15,color=\"red\")\n",
    "plt.xlabel(\"Latitude\")\n",
    "plt.ylabel(\"Max Temperature (F)\")\n",
    "print(f\"The r-squared is: {rvalue**2}\")\n",
    "# Save a picture of the plot as .png file\n",
    "plt.savefig(\"Images/latvsmaxtempregression.png\")\n",
    "plt.show()"
   ]
  },
  {
   "cell_type": "markdown",
   "metadata": {},
   "source": [
    "####  Southern Hemisphere - Max Temp vs. Latitude Linear Regression"
   ]
  },
  {
   "cell_type": "code",
   "execution_count": 129,
   "metadata": {},
   "outputs": [
    {
     "name": "stdout",
     "output_type": "stream",
     "text": [
      "The r-squared is: 0.44335045901489467\n"
     ]
    },
    {
     "data": {
      "image/png": "[encoded data removed]",
      "text/plain": [
       "<Figure size 432x288 with 1 Axes>"
      ]
     },
     "metadata": {
      "needs_background": "light"
     },
     "output_type": "display_data"
    }
   ],
   "source": [
    "# Linear Regression equation and Print out the r-squared value along with the plot.\n",
    "x_values = southern_hem[\"Lat\"]\n",
    "y_values = southern_hem[\"Max Temp\"]\n",
    "(slope, intercept, rvalue, pvalue, stderr) = linregress(x_values, y_values)\n",
    "regress_values = x_values * slope + intercept\n",
    "line_eq = \"y = \" + str(round(slope,2)) + \"x + \" + str(round(intercept,2))\n",
    "plt.scatter(x_values,y_values)\n",
    "plt.plot(x_values,regress_values,\"r-\")\n",
    "plt.annotate(line_eq,(-30,40),fontsize=15,color=\"red\")\n",
    "plt.xlabel(\"Latitude\")\n",
    "plt.ylabel(\"Max Temperature (F)\")\n",
    "print(f\"The r-squared is: {rvalue**2}\")\n",
    "# Save a picture of the plot as .png file\n",
    "plt.savefig(\"Images/latvsmaxtempregression1.png\")\n",
    "plt.show()"
   ]
  },
  {
   "cell_type": "markdown",
   "metadata": {},
   "source": [
    "####  Northern Hemisphere - Humidity (%) vs. Latitude Linear Regression"
   ]
  },
  {
   "cell_type": "code",
   "execution_count": 128,
   "metadata": {},
   "outputs": [
    {
     "name": "stdout",
     "output_type": "stream",
     "text": [
      "The r-squared is: 0.023277345026436476\n"
     ]
    },
    {
     "data": {
      "image/png": "[encoded data removed]",
      "text/plain": [
       "<Figure size 432x288 with 1 Axes>"
      ]
     },
     "metadata": {
      "needs_background": "light"
     },
     "output_type": "display_data"
    }
   ],
   "source": [
    "# Linear Regression equation and Print out the r-squared value along with the plot.\n",
    "x_values = northern_hem[\"Lat\"]\n",
    "y_values = northern_hem[\"Humidity\"]\n",
    "(slope, intercept, rvalue, pvalue, stderr) = linregress(x_values, y_values)\n",
    "regress_values = x_values * slope + intercept\n",
    "line_eq = \"y = \" + str(round(slope,2)) + \"x + \" + str(round(intercept,2))\n",
    "plt.scatter(x_values,y_values)\n",
    "plt.plot(x_values,regress_values,\"r-\")\n",
    "plt.annotate(line_eq,(40,10),fontsize=15,color=\"red\")\n",
    "plt.xlabel(\"Latitude\")\n",
    "plt.ylabel(\"Humidity (%)\")\n",
    "print(f\"The r-squared is: {rvalue**2}\")\n",
    "# Save a picture of the plot as .png file\n",
    "plt.savefig(\"Images/latvshumidityregression.png\")\n",
    "plt.show()"
   ]
  },
  {
   "cell_type": "markdown",
   "metadata": {},
   "source": [
    "####  Southern Hemisphere - Humidity (%) vs. Latitude Linear Regression"
   ]
  },
  {
   "cell_type": "code",
   "execution_count": 127,
   "metadata": {},
   "outputs": [
    {
     "name": "stdout",
     "output_type": "stream",
     "text": [
      "The r-squared is: 0.0032576419622957096\n"
     ]
    },
    {
     "data": {
      "image/png": "[encoded data removed]",
      "text/plain": [
       "<Figure size 432x288 with 1 Axes>"
      ]
     },
     "metadata": {
      "needs_background": "light"
     },
     "output_type": "display_data"
    }
   ],
   "source": [
    "# Linear Regression equation and Print out the r-squared value along with the plot.\n",
    "x_values = southern_hem[\"Lat\"]\n",
    "y_values = southern_hem[\"Humidity\"]\n",
    "(slope, intercept, rvalue, pvalue, stderr) = linregress(x_values, y_values)\n",
    "regress_values = x_values * slope + intercept\n",
    "line_eq = \"y = \" + str(round(slope,2)) + \"x + \" + str(round(intercept,2))\n",
    "plt.scatter(x_values,y_values)\n",
    "plt.plot(x_values,regress_values,\"r-\")\n",
    "plt.annotate(line_eq,(-25,30),fontsize=15,color=\"red\")\n",
    "plt.xlabel(\"Latitude\")\n",
    "plt.ylabel(\"Humidity (%)\")\n",
    "print(f\"The r-squared is: {rvalue**2}\")\n",
    "# Save a picture of the plot as .png file\n",
    "plt.savefig(\"Images/latvshumidityregression1.png\")\n",
    "plt.show()"
   ]
  },
  {
   "cell_type": "markdown",
   "metadata": {},
   "source": [
    "####  Northern Hemisphere - Cloudiness (%) vs. Latitude Linear Regression"
   ]
  },
  {
   "cell_type": "code",
   "execution_count": 126,
   "metadata": {},
   "outputs": [
    {
     "name": "stdout",
     "output_type": "stream",
     "text": [
      "The r-squared is: 0.00687757303868429\n"
     ]
    },
    {
     "data": {
      "image/png": "[encoded data removed]",
      "text/plain": [
       "<Figure size 432x288 with 1 Axes>"
      ]
     },
     "metadata": {
      "needs_background": "light"
     },
     "output_type": "display_data"
    }
   ],
   "source": [
    "# Linear Regression equation and Print out the r-squared value along with the plot.\n",
    "x_values = northern_hem[\"Lat\"]\n",
    "y_values = northern_hem[\"Cloudiness\"]\n",
    "(slope, intercept, rvalue, pvalue, stderr) = linregress(x_values, y_values)\n",
    "regress_values = x_values * slope + intercept\n",
    "line_eq = \"y = \" + str(round(slope,2)) + \"x + \" + str(round(intercept,2))\n",
    "plt.scatter(x_values,y_values)\n",
    "plt.plot(x_values,regress_values,\"r-\")\n",
    "plt.annotate(line_eq,(12,45),fontsize=15,color=\"red\")\n",
    "plt.xlabel(\"Latitude\")\n",
    "plt.ylabel(\"Cloudiness (%)\")\n",
    "print(f\"The r-squared is: {rvalue**2}\")\n",
    "# Save a picture of the plot as .png file\n",
    "plt.savefig(\"Images/latvscloudinessregression.png\")\n",
    "plt.show()"
   ]
  },
  {
   "cell_type": "markdown",
   "metadata": {},
   "source": [
    "####  Southern Hemisphere - Cloudiness (%) vs. Latitude Linear Regression"
   ]
  },
  {
   "cell_type": "code",
   "execution_count": 125,
   "metadata": {},
   "outputs": [
    {
     "name": "stdout",
     "output_type": "stream",
     "text": [
      "The r-squared is: 0.0097093493844142\n"
     ]
    },
    {
     "data": {
      "image/png": "[encoded data removed]",
      "text/plain": [
       "<Figure size 432x288 with 1 Axes>"
      ]
     },
     "metadata": {
      "needs_background": "light"
     },
     "output_type": "display_data"
    }
   ],
   "source": [
    "# Linear Regression equation and Print out the r-squared value along with the plot.\n",
    "x_values = southern_hem[\"Lat\"]\n",
    "y_values = southern_hem[\"Cloudiness\"]\n",
    "(slope, intercept, rvalue, pvalue, stderr) = linregress(x_values, y_values)\n",
    "regress_values = x_values * slope + intercept\n",
    "line_eq = \"y = \" + str(round(slope,2)) + \"x + \" + str(round(intercept,2))\n",
    "plt.scatter(x_values,y_values)\n",
    "plt.plot(x_values,regress_values,\"r-\")\n",
    "plt.annotate(line_eq,(-50,25),fontsize=15,color=\"red\")\n",
    "plt.xlabel(\"Latitude\")\n",
    "plt.ylabel(\"Cloudiness (%)\")\n",
    "print(f\"The r-squared is: {rvalue**2}\")\n",
    "# Save a picture of the plot as .png file\n",
    "plt.savefig(\"Images/latvscloudinessregression1.png\")\n",
    "plt.show()"
   ]
  },
  {
   "cell_type": "markdown",
   "metadata": {},
   "source": [
    "####  Northern Hemisphere - Wind Speed (mph) vs. Latitude Linear Regression"
   ]
  },
  {
   "cell_type": "code",
   "execution_count": 124,
   "metadata": {},
   "outputs": [
    {
     "name": "stdout",
     "output_type": "stream",
     "text": [
      "The r-squared is: 0.0051314947847614385\n"
     ]
    },
    {
     "data": {
      "image/png": "[encoded data removed]",
      "text/plain": [
       "<Figure size 432x288 with 1 Axes>"
      ]
     },
     "metadata": {
      "needs_background": "light"
     },
     "output_type": "display_data"
    }
   ],
   "source": [
    "# Linear Regression equation and Print out the r-squared value along with the plot.\n",
    "x_values = northern_hem[\"Lat\"]\n",
    "y_values = northern_hem[\"Wind Speed\"]\n",
    "(slope, intercept, rvalue, pvalue, stderr) = linregress(x_values, y_values)\n",
    "regress_values = x_values * slope + intercept\n",
    "line_eq = \"y = \" + str(round(slope,2)) + \"x + \" + str(round(intercept,2))\n",
    "plt.scatter(x_values,y_values)\n",
    "plt.plot(x_values,regress_values,\"r-\")\n",
    "plt.annotate(line_eq,(10,22),fontsize=15,color=\"red\")\n",
    "plt.xlabel(\"Latitude\")\n",
    "plt.ylabel(\"Wind Speed (mph)\")\n",
    "print(f\"The r-squared is: {rvalue**2}\")\n",
    "# Save a picture of the plot as .png file\n",
    "plt.savefig(\"Images/latvswindspeedregression.png\")\n",
    "plt.show()"
   ]
  },
  {
   "cell_type": "markdown",
   "metadata": {},
   "source": [
    "####  Southern Hemisphere - Wind Speed (mph) vs. Latitude Linear Regression"
   ]
  },
  {
   "cell_type": "code",
   "execution_count": 123,
   "metadata": {},
   "outputs": [
    {
     "name": "stdout",
     "output_type": "stream",
     "text": [
      "The r-squared is: 0.10892692932909565\n"
     ]
    },
    {
     "data": {
      "image/png": "[encoded data removed]",
      "text/plain": [
       "<Figure size 432x288 with 1 Axes>"
      ]
     },
     "metadata": {
      "needs_background": "light"
     },
     "output_type": "display_data"
    }
   ],
   "source": [
    "# Linear Regression equation and Print out the r-squared value along with the plot.\n",
    "x_values = southern_hem[\"Lat\"]\n",
    "y_values = southern_hem[\"Wind Speed\"]\n",
    "(slope, intercept, rvalue, pvalue, stderr) = linregress(x_values, y_values)\n",
    "regress_values = x_values * slope + intercept\n",
    "line_eq = \"y = \" + str(round(slope,2)) + \"x + \" + str(round(intercept,2))\n",
    "plt.scatter(x_values,y_values)\n",
    "plt.plot(x_values,regress_values,\"r-\")\n",
    "plt.annotate(line_eq,(-50,25),fontsize=15,color=\"red\")\n",
    "plt.xlabel(\"Latitude\")\n",
    "plt.ylabel(\"Wind Speed (mph)\")\n",
    "print(f\"The r-squared is: {rvalue**2}\")\n",
    "# Save a picture of the plot as .png file\n",
    "plt.savefig(\"Images/latvswindspeedregression1.png\")\n",
    "plt.show()"
   ]
  },
  {
   "cell_type": "code",
   "execution_count": null,
   "metadata": {},
   "outputs": [],
   "source": []
  }
 ],
 "metadata": {
  "anaconda-cloud": {},
  "kernel_info": {
   "name": "python3"
  },
  "kernelspec": {
   "display_name": "Python [conda env:PythonData] *",
   "language": "python",
   "name": "conda-env-PythonData-py"
  },
  "language_info": {
   "codemirror_mode": {
    "name": "ipython",
    "version": 3
   },
   "file_extension": ".py",
   "mimetype": "text/x-python",
   "name": "python",
   "nbconvert_exporter": "python",
   "pygments_lexer": "ipython3",
   "version": "3.6.10"
  },
  "latex_envs": {
   "LaTeX_envs_menu_present": true,
   "autoclose": false,
   "autocomplete": true,
   "bibliofile": "biblio.bib",
   "cite_by": "apalike",
   "current_citInitial": 1,
   "eqLabelWithNumbers": true,
   "eqNumInitial": 1,
   "hotkeys": {
    "equation": "Ctrl-E",
    "itemize": "Ctrl-I"
   },
   "labels_anchors": false,
   "latex_user_defs": false,
   "report_style_numbering": false,
   "user_envs_cfg": false
  },
  "nteract": {
   "version": "0.12.3"
  }
 },
 "nbformat": 4,
 "nbformat_minor": 2
}
